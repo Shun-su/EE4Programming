{
 "cells": [
  {
   "cell_type": "code",
   "execution_count": 17,
   "id": "cdf933df-ac6a-49e9-b0cf-ff0bf82ca178",
   "metadata": {},
   "outputs": [],
   "source": [
    "import PySimpleGUI as sg"
   ]
  },
  {
   "cell_type": "code",
   "execution_count": 8,
   "id": "54222a55-4b27-4ea4-a1ed-52328196d2b5",
   "metadata": {},
   "outputs": [
    {
     "name": "stdout",
     "output_type": "stream",
     "text": [
      "event: 地球ボタン values: {}\n",
      "event: 枠太さ:4 values: {}\n",
      "event: デフォルト values: {}\n",
      "event: 赤地に青 values: {}\n",
      "event: 赤地に青 values: {}\n",
      "event: 赤地に青 values: {}\n",
      "event: 黒地に白 values: {}\n",
      "event: 黒地に白 values: {}\n",
      "event: 赤地に青 values: {}\n",
      "event: 地球ボタン values: {}\n",
      "event: 地球ボタン values: {}\n",
      "event: 地球ボタン values: {}\n",
      "event: 地球ボタン values: {}\n",
      "event: 地球ボタン values: {}\n",
      "event: 地球ボタン values: {}\n",
      "event: 地球ボタン values: {}\n",
      "event: 地球防衛軍 values: {}\n",
      "event: 地球防衛軍 values: {}\n",
      "event: 地球防衛軍 values: {}\n",
      "event: 地球防衛軍 values: {}\n",
      "event: 地球防衛軍 values: {}\n",
      "event: 地球防衛軍 values: {}\n",
      "event: 地球防衛軍 values: {}\n",
      "event: 地球防衛軍 values: {}\n",
      "event: 地球防衛軍 values: {}\n",
      "event: 地球防衛軍 values: {}\n",
      "event: 地球防衛軍 values: {}\n",
      "event: 地球防衛軍 values: {}\n",
      "event: 地球防衛軍 values: {}\n",
      "event: 地球防衛軍 values: {}\n",
      "event: 地球防衛軍 values: {}\n",
      "event: 地球防衛軍 values: {}\n",
      "event: 地球防衛軍 values: {}\n",
      "event: 地球防衛軍 values: {}\n",
      "event: None values: None\n"
     ]
    }
   ],
   "source": [
    "layout = [[sg.Button('枠太さ:8', size=(10,1), border_width=8),\n",
    "           sg.Button('枠太さ:4', size=(10,1), border_width=4),\n",
    "           sg.Button('デフォルト', size=(10,1)) ],\n",
    "          [sg.Button('白地に黒', size=(10,1), button_color=('#000000', '#ffffff')),\n",
    "           sg.Button('黒地に白', size=(10,1), button_color=('#ffffff', '#000000')),\n",
    "           sg.Button('赤地に青', size=(10,1), button_color=('#0000ff', '#ff0000'))],\n",
    "          [sg.Button('地球ボタン', image_filename=\"ImageEarth_big.png\",\n",
    "                     button_color=('#0000ff', '#ff0000')),\n",
    "           sg.Button('地球防衛軍', image_filename=\"ImageEarth_big.png\",\n",
    "                     border_width=8)]]\n",
    "\n",
    "window = sg.Window('地球ボタン', layout)\n",
    "while True:\n",
    "    event, values = window.read()\n",
    "    print(\"event:\", event, \"values:\", values)\n",
    "    if event == None:\n",
    "        break\n",
    "\n",
    "window.close()"
   ]
  },
  {
   "cell_type": "code",
   "execution_count": null,
   "id": "f5ed3412-7cae-4359-a8ac-08f00c7a9352",
   "metadata": {},
   "outputs": [],
   "source": []
  },
  {
   "cell_type": "code",
   "execution_count": null,
   "id": "077de5fa-6cba-439d-8910-3f6ab326db5a",
   "metadata": {},
   "outputs": [],
   "source": []
  },
  {
   "cell_type": "code",
   "execution_count": 29,
   "id": "2d60e1e2-10f0-4c71-8456-9ce7079d6fb9",
   "metadata": {},
   "outputs": [
    {
     "name": "stdout",
     "output_type": "stream",
     "text": [
      "event: None values: {0: None, 1: None, 2: None, 3: None, 4: None, 5: None}\n"
     ]
    }
   ],
   "source": [
    "#ラジオボタン\n",
    "layout = [\n",
    "    [sg.Checkbox('項目11'), sg.Checkbox('項目12'), sg.Checkbox('項目13')],\n",
    "    [sg.Radio('項目21', group_id='g1', default=True),\n",
    "     sg.Radio('項目22', group_id='g1'),\n",
    "     sg.Radio('項目23', group_id='g1')],\n",
    "    [sg.Button('Check')]\n",
    "]\n",
    "\n",
    "window = sg.Window('week3.py', layout)\n",
    "while True:\n",
    "    event, values = window.read()\n",
    "    print(\"event:\", event, \"values:\", values)\n",
    "    if event == None:\n",
    "        break\n",
    "\n",
    "window.close()"
   ]
  },
  {
   "cell_type": "code",
   "execution_count": 7,
   "id": "f3789bb2-ea96-4d46-ae21-56c5284d46fe",
   "metadata": {},
   "outputs": [
    {
     "name": "stdout",
     "output_type": "stream",
     "text": [
      "event=  bt values=  {} i=  0\n",
      "event=  bt values=  {} i=  1\n",
      "event=  None values=  None i=  2\n"
     ]
    }
   ],
   "source": [
    "#range()\n",
    "import PySimpleGUI as sg\n",
    "import random\n",
    "\n",
    "bts = ('bt1', 'bt2', 'bt3', 'bt4', 'bt5', 'bt6', 'bt7', 'bt8')\n",
    "imgs = (\"ImageMercury.png\", \"ImageVenus.png\", \"ImageEarth.png\", \"ImageSaturn.png\", \"ImageJupiter.png\", \"ImageNeptune.png\", \"ImageMars.png\", \"ImagePluto.png\", \"ImageUranus.png\", \"haikeitoumei.png\")\n",
    "\n",
    "layout = [[sg.Image(filename='',key='img')],\n",
    "          [sg.Button(\"星\", key='bt')]]\n",
    "\n",
    "window = sg.Window('week3.jpynb', layout)\n",
    "window.finalize() #画像を指定していないため、windowが立ち上がらないが、windowとして成立させるためにファイナライズする\n",
    "#random.seed(0)\n",
    "order = list(range(9))\n",
    "random.shuffle(order)\n",
    "\n",
    "i = 0\n",
    "while True:\n",
    "    window['img'].Update(filename=imgs[order[i]])\n",
    "    event, values = window.read()\n",
    "    print(\"event= \", event, \"values= \", values, \"i= \", i)\n",
    "    i+=1\n",
    "    if i > 8:\n",
    "        i = 0\n",
    "    if event == None:\n",
    "        break\n",
    "window.close()"
   ]
  },
  {
   "cell_type": "code",
   "execution_count": null,
   "id": "e8a9deaa-b518-4c0f-983a-eaa8add54291",
   "metadata": {},
   "outputs": [],
   "source": []
  },
  {
   "cell_type": "code",
   "execution_count": null,
   "id": "cad9ff7f-a64f-4c5b-8fe3-32e2dc22f31e",
   "metadata": {},
   "outputs": [],
   "source": []
  },
  {
   "cell_type": "code",
   "execution_count": 15,
   "id": "7f5a110a-4f97-4913-88cc-6debe8e8ead4",
   "metadata": {},
   "outputs": [],
   "source": [
    "import PySimpleGUI as sg\n",
    "import random\n",
    "import time\n",
    "\n",
    "# 画像ファイルとボタンキーの定義\n",
    "btn = ('bt0', 'bt1', 'bt2', 'bt3', 'bt4', 'bt5', 'bt6', 'bt7')\n",
    "imgs = (\"ImageMercury.png\", \"ImageVenus.png\", \"ImageEarth.png\", \"ImageSaturn.png\",\n",
    "        \"ImageJupiter.png\", \"ImageNeptune.png\", \"ImageMars.png\", \"ImagePluto.png\")\n",
    "\n",
    "# レイアウトの設定\n",
    "layout = [\n",
    "    [sg.Text('この星はなにかな？', font=('HG行書体', 24), text_color='#ff0000', background_color='#0000ff', key='tx0'), sg.Image(filename='', key='img')],      # 画像表示\n",
    "    [[sg.Button('すい星', key='bt0'), sg.Button('金星', key='bt1'), sg.Button('地球', key='bt2'), sg.Button('土星', key='bt3')]],\n",
    "    [sg.Button('木星', key='bt4'), sg.Button('海王星', key='bt5'), sg.Button('火星', key='bt6'), sg.Button('冥王星', key='bt7')]\n",
    "]\n",
    "\n",
    "# ウィンドウの作成\n",
    "window = sg.Window('星の写真を当てるゲーム', layout)\n",
    "window.finalize()\n",
    "\n",
    "# 画像の順番をランダムに並べ替え\n",
    "order = list(range(len(imgs)))\n",
    "random.shuffle(order)\n",
    "\n",
    "i = 0  # 現在の画像インデックス\n",
    "while True:\n",
    "    # 画像を表示し、メッセージをリセット\n",
    "    window['img'].Update(filename=imgs[order[i]])\n",
    "    window['tx0'].Update('この星はなにかな？')\n",
    "\n",
    "    while True:\n",
    "        # イベントの読み込み\n",
    "        event, values = window.read()\n",
    "        \n",
    "        # ウィンドウが閉じられた場合\n",
    "        if event is None:\n",
    "            break\n",
    "        \n",
    "        # 正解の場合\n",
    "        if event == btn[order[i]]:\n",
    "            window['tx0'].Update('せいかい！')\n",
    "            window.read(timeout=1000)\n",
    "            break  # 内側のループを抜けて次の画像へ\n",
    "        else:\n",
    "            # 不正解の場合\n",
    "            window['tx0'].Update('ちがうよ！')\n",
    "            # メッセージを表示したまま再度入力を待つ\n",
    "\n",
    "    if event is None:\n",
    "        break  # ウィンドウが閉じられたら外側のループも終了\n",
    "\n",
    "    # 次の画像へ\n",
    "    i += 1\n",
    "    if i >= len(order):\n",
    "        i = 0\n",
    "        random.shuffle(order)\n",
    "\n",
    "window.close()"
   ]
  },
  {
   "cell_type": "code",
   "execution_count": null,
   "id": "e389f0a0-5ddf-4493-a73a-481fb3097c39",
   "metadata": {},
   "outputs": [],
   "source": []
  }
 ],
 "metadata": {
  "kernelspec": {
   "display_name": "Python 3 (ipykernel)",
   "language": "python",
   "name": "python3"
  },
  "language_info": {
   "codemirror_mode": {
    "name": "ipython",
    "version": 3
   },
   "file_extension": ".py",
   "mimetype": "text/x-python",
   "name": "python",
   "nbconvert_exporter": "python",
   "pygments_lexer": "ipython3",
   "version": "3.12.4"
  }
 },
 "nbformat": 4,
 "nbformat_minor": 5
}
