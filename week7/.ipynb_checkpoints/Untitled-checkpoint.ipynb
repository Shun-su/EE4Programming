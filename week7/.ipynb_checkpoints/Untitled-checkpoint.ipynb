{
 "cells": [
  {
   "cell_type": "code",
   "execution_count": null,
   "id": "37344057-ae3c-4b9b-8d72-7787b11a6d39",
   "metadata": {},
   "outputs": [],
   "source": [
    "import PySimpleGui as sg\n",
    "\n",
    "# 表\n",
    "T = [[x+20*y for x in range(20)] for y in range(50)]\n",
    "H = [chr(65+x) for x in range(20)]\n",
    "\n",
    "# レイアウト\n",
    "L = [[sg.Table(T, headings = H, auto_size_columns = False, vertical_scroll_only = False,\n",
    "               def_col_width = 5,\n",
    "               num_rows = 10,\n",
    "               display_row_numbers = True,\n",
    "               header_text_color = '#0000ff',\n",
    "               header_background_color = '#cccccc'\n",
    "              )]]\n",
    "\n",
    "# ウィンドウの作成\n",
    "window = sg.Window('psguiTable.py', L, resizable = True, size = (600, 250))\n",
    "\n",
    "# イベントループ\n",
    "while True:\n",
    "    event, values = window.read() # イベントの読み取り\n",
    "        if event is None: # 終了条件\n",
    "            break\n",
    "\n",
    "# 終了処理\n",
    "window.close()"
   ]
  }
 ],
 "metadata": {
  "kernelspec": {
   "display_name": "Python 3 (ipykernel)",
   "language": "python",
   "name": "python3"
  },
  "language_info": {
   "codemirror_mode": {
    "name": "ipython",
    "version": 3
   },
   "file_extension": ".py",
   "mimetype": "text/x-python",
   "name": "python",
   "nbconvert_exporter": "python",
   "pygments_lexer": "ipython3",
   "version": "3.12.4"
  }
 },
 "nbformat": 4,
 "nbformat_minor": 5
}
