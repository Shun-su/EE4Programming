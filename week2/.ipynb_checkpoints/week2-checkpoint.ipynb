{
 "cells": [
  {
   "cell_type": "code",
   "execution_count": 5,
   "id": "d76a8f3a-c551-431f-af6a-eaa101691862",
   "metadata": {},
   "outputs": [
    {
     "name": "stdout",
     "output_type": "stream",
     "text": [
      "Collecting pysimplegui==4.60.5\n",
      "  Using cached PySimpleGUI-4.60.5.0-py3-none-any.whl.metadata (56 kB)\n",
      "Using cached PySimpleGUI-4.60.5.0-py3-none-any.whl (512 kB)\n",
      "Installing collected packages: pysimplegui\n",
      "Successfully installed pysimplegui-4.60.5.0\n",
      "Note: you may need to restart the kernel to use updated packages.\n"
     ]
    }
   ],
   "source": [
    "pip install pysimplegui==4.60.5"
   ]
  },
  {
   "cell_type": "code",
   "execution_count": 1,
   "id": "ea312c91-d25c-40c8-ba2b-970e4a780ec6",
   "metadata": {},
   "outputs": [
    {
     "name": "stdout",
     "output_type": "stream",
     "text": [
      "Mac OS Version is 15.0.1 and patch enabled so applying the patch\n"
     ]
    }
   ],
   "source": [
    "import PySimpleGUI as sg"
   ]
  },
  {
   "cell_type": "code",
   "execution_count": 5,
   "id": "89d3b5ed-5526-4a14-8855-1ecaab514162",
   "metadata": {},
   "outputs": [],
   "source": [
    "sg.theme('SystemDefault')\n",
    "layout = [\n",
    "    [sg.Text('文字列の表示：HG行書体, 24pt',\n",
    "             font=('HG行書体', 24),\n",
    "             text_color='#ff0000', background_color='#0000ff')]\n",
    "]\n",
    "window = sg.Window('week2.jpynb', layout)\n",
    "while True:\n",
    "    event, values = window.read()\n",
    "    if event == None:\n",
    "        break\n",
    "\n",
    "window.close()"
   ]
  },
  {
   "cell_type": "code",
   "execution_count": 15,
   "id": "f19218b2-5b3d-45ae-adee-485276435ab6",
   "metadata": {},
   "outputs": [],
   "source": [
    "sg.theme('SystemDefault')\n",
    "image_path = \"/Users/ohons/Documents/kosen/programming/haikeitoumei.png\"\n",
    "layout = [\n",
    "    [sg.Image(image_path)]\n",
    "]\n",
    "window = sg.Window('week2.jpynb', layout)\n",
    "while True:\n",
    "    event, values = window.read()\n",
    "    if event == None:\n",
    "        break\n",
    "\n",
    "window.close()"
   ]
  },
  {
   "cell_type": "code",
   "execution_count": null,
   "id": "44a62da6-add8-4ec7-bf73-026a9df655ce",
   "metadata": {},
   "outputs": [],
   "source": []
  },
  {
   "cell_type": "code",
   "execution_count": 16,
   "id": "eaadd53e-2a8d-47f5-86d8-eb82eec0f6b9",
   "metadata": {},
   "outputs": [
    {
     "name": "stderr",
     "output_type": "stream",
     "text": [
      "2024-10-22 09:29:09.669 python[8735:920769] +[IMKInputSession subclass]: chose IMKInputSession_Legacy\n"
     ]
    },
    {
     "name": "stdout",
     "output_type": "stream",
     "text": [
      "イベント： bt1 値 {0: 'こんにちはここに文字を入れる'}\n",
      "イベント： bt1 値 {0: 'こんにちはここに文字を入れる'}\n",
      "イベント： bt1 値 {0: 'こんにちはここに文字を入れる'}\n",
      "イベント： bt1 値 {0: 'こんにちは'}\n",
      "イベント： None 値 None\n"
     ]
    }
   ],
   "source": [
    "sg.theme('SystemDefault')\n",
    "layout = [\n",
    "    [sg.InputText(default_text=\"ここに文字を入れる\",\n",
    "        background_color='#e0e0e0')],\n",
    "    [sg.Button('read', key='bt1')]\n",
    "]\n",
    "window = sg.Window('week2.jpynb', layout)\n",
    "while True:\n",
    "    event, values = window.read()\n",
    "    print('イベント：', event, '値：', values)\n",
    "    if event == None:\n",
    "        break\n",
    "\n",
    "window.close()"
   ]
  },
  {
   "cell_type": "code",
   "execution_count": null,
   "id": "77cdc287-4ef9-4ad4-86a6-b53c36b5a68b",
   "metadata": {},
   "outputs": [
    {
     "name": "stdout",
     "output_type": "stream",
     "text": [
      "イベント： bt0 値： {'in0': 'こんにちは'}\n",
      "イベント： bt0 値： {'in0': 'こんばんは'}\n",
      "イベント： bt0 値： {'in0': 'はじめまして！'}\n"
     ]
    }
   ],
   "source": [
    "import PySimpleGUI as sg\n",
    "\n",
    "sg.theme('SystemDefault')\n",
    "\n",
    "image_path = '/Users/ohons/Documents/kosen/programming/haikeitoumei.png'\n",
    "\n",
    "layout = [\n",
    "    [sg.Text('初音ミクだよ',\n",
    "              font=('HG行書体', 24),\n",
    "              text_color='#ff0000',\n",
    "              background_color='#0000ff',\n",
    "              key='tx0'),\n",
    "     sg.Image(image_path)\n",
    "    ],\n",
    "    [sg.InputText(default_text=\"ここに文字を入れる\",\n",
    "        background_color='#e0e0e0',\n",
    "        key = 'in0')],\n",
    "    [sg.Button('GO', key='bt0')]\n",
    "]\n",
    "\n",
    "window = sg.Window('week2.jpynb', layout)\n",
    "while True:\n",
    "    event, values = window.read()\n",
    "    print('イベント：', event, '値：', values)\n",
    "    if event == None:\n",
    "        break\n",
    "    elif event == 'bt0':\n",
    "        window['tx0'].Update(values['in0'])\n",
    "\n",
    "window.close()"
   ]
  }
 ],
 "metadata": {
  "kernelspec": {
   "display_name": "Python 3 (ipykernel)",
   "language": "python",
   "name": "python3"
  },
  "language_info": {
   "codemirror_mode": {
    "name": "ipython",
    "version": 3
   },
   "file_extension": ".py",
   "mimetype": "text/x-python",
   "name": "python",
   "nbconvert_exporter": "python",
   "pygments_lexer": "ipython3",
   "version": "3.12.4"
  }
 },
 "nbformat": 4,
 "nbformat_minor": 5
}
