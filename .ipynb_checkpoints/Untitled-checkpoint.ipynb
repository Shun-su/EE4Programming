{
 "cells": [
  {
   "cell_type": "code",
   "execution_count": 6,
   "id": "21187376-f109-4705-8a2b-263ab6444554",
   "metadata": {},
   "outputs": [
    {
     "name": "stdout",
     "output_type": "stream",
     "text": [
      "event: None values: None\n"
     ]
    }
   ],
   "source": [
    "import PySimpleGUI as sg\n",
    "cv = sg.Canvas(size=(400, 140))\n",
    "L  = [[cv]]\n",
    "window = sg.Window('psguiCanvas01.py', L, finalize=True)\n",
    "\n",
    "tcv = cv.TKCanvas\n",
    "tcv.create_oval(10, 10, 390, 130, outline='#ff0000', fill='#00ff00', width=10)\n",
    "\n",
    "while True:\n",
    "    event, values = window.read()\n",
    "    print('event:', event, 'values:', values)\n",
    "    if event == None:\n",
    "        break\n",
    "\n",
    "window.close()"
   ]
  },
  {
   "cell_type": "code",
   "execution_count": null,
   "id": "57e071bf-4f8f-4705-ab14-93c43a7601ca",
   "metadata": {},
   "outputs": [
    {
     "name": "stdout",
     "output_type": "stream",
     "text": [
      "event: -sin- values: {'-sin-': True, '-cos-': False, '-tan-': False}\n",
      "event: -cos- values: {'-sin-': False, '-cos-': True, '-tan-': False}\n",
      "event: -tan- values: {'-sin-': False, '-cos-': False, '-tan-': True}\n",
      "event: -sin- values: {'-sin-': True, '-cos-': False, '-tan-': False}\n",
      "event: bt1 values: {'-sin-': True, '-cos-': False, '-tan-': False}\n",
      "event: -cos- values: {'-sin-': False, '-cos-': True, '-tan-': False}\n",
      "event: -tan- values: {'-sin-': False, '-cos-': False, '-tan-': True}\n"
     ]
    }
   ],
   "source": [
    "import PySimpleGUI as sg\n",
    "import tkinter as tk\n",
    "import math\n",
    "\n",
    "cv = sg.Canvas(size=(420, 420))\n",
    "L  = [[cv],\n",
    "      [sg.Button('削除', key='bt1')],\n",
    "      [sg.Radio('sin', group_id='curve', key='-sin-', enable_events=True),\n",
    "       sg.Radio('cos', group_id='curve', key='-cos-', enable_events=True),\n",
    "       sg.Radio('tan', group_id='curve', key='-tan-', enable_events=True)]\n",
    "     ]\n",
    "#L  = [[cv], [sg.Button('削除', key='bt1')]]\n",
    "\n",
    "window = sg.Window('canvas', L, finalize=True)\n",
    "\n",
    "tvc = cv.TKCanvas\n",
    "tvc.create_rectangle(10, 10, 410, 410, fill='white')\n",
    "\n",
    "sin = []\n",
    "for x in range(0, 400):\n",
    "    y = 150*math.sin(x*2*3.14 / 200)\n",
    "    sin.append(x+10)\n",
    "    sin.append(210-y)\n",
    "\n",
    "cos = []\n",
    "for x in range(0, 400):\n",
    "    y = 150*math.cos(x*2*3.14 / 200)\n",
    "    cos.append(x+10)\n",
    "    cos.append(210-y)\n",
    "\n",
    "tan = []\n",
    "for x in range(0, 400):\n",
    "    y = 150*math.tan(x*2*3.14 / 200)\n",
    "    tan.append(x+10)\n",
    "    tan.append(210-y)\n",
    "\n",
    "# cv.tk_canvas.create_line(sin, fill='pink', width=2, activefill='red', activewidth=4, tag='line0')\n",
    "# cv.tk_canvas.create_line(cos, fill='skyblue', width=2, activefill='blue', activewidth=4, tag='line1')\n",
    "# cv.tk_canvas.create_line(tan, fill='lightgreen', width=2, activefill='green', activewidth=4, tag='line2')\n",
    "\n",
    "\n",
    "cv.tk_canvas.create_line(10, 210, 410, 210, fill='black', arrow='last')\n",
    "cv.tk_canvas.create_line(210, 10, 210, 410, fill='black', arrow='first')\n",
    "\n",
    "\n",
    "\n",
    "while True:\n",
    "    event, values = window.read()\n",
    "    print('event:', event, 'values:', values)\n",
    "    if event == None:\n",
    "        break\n",
    "    if event == 'bt1':\n",
    "        cv.TKCanvas.delete('line')\n",
    "    elif event in ('-sin-', '-cos-', '-tan-'):\n",
    "        # 既存のラインを削除\n",
    "        cv.TKCanvas.delete('line')\n",
    "        # 選択されたグラフを描画\n",
    "        if event == '-sin-':\n",
    "            cv.TKCanvas.create_line(sin, fill='pink', width=2, activefill='red', activewidth=4, tag='line')\n",
    "        elif event == '-cos-':\n",
    "            cv.TKCanvas.create_line(cos, fill='skyblue', width=2, activefill='blue', activewidth=4, tag='line')\n",
    "        elif event == '-tan-':\n",
    "            cv.TKCanvas.create_line(tan, fill='lightgreen', width=2, activefill='green', activewidth=4, tag='line')\n",
    "\n",
    "window.close()"
   ]
  },
  {
   "cell_type": "code",
   "execution_count": null,
   "id": "059e1938-732f-4cff-a63b-e6feae9c5ae7",
   "metadata": {},
   "outputs": [],
   "source": []
  },
  {
   "cell_type": "code",
   "execution_count": null,
   "id": "8a0cf877-58be-472b-9840-684ea1aa2f0d",
   "metadata": {},
   "outputs": [],
   "source": []
  }
 ],
 "metadata": {
  "kernelspec": {
   "display_name": "Python 3 (ipykernel)",
   "language": "python",
   "name": "python3"
  },
  "language_info": {
   "codemirror_mode": {
    "name": "ipython",
    "version": 3
   },
   "file_extension": ".py",
   "mimetype": "text/x-python",
   "name": "python",
   "nbconvert_exporter": "python",
   "pygments_lexer": "ipython3",
   "version": "3.12.4"
  }
 },
 "nbformat": 4,
 "nbformat_minor": 5
}
