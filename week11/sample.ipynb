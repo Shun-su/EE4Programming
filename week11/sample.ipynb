{
 "cells": [
  {
   "cell_type": "code",
   "execution_count": 1,
   "metadata": {},
   "outputs": [
    {
     "name": "stdout",
     "output_type": "stream",
     "text": [
      "hello world\n"
     ]
    }
   ],
   "source": [
    "print('hello world')"
   ]
  },
  {
   "cell_type": "code",
   "execution_count": 2,
   "metadata": {},
   "outputs": [
    {
     "name": "stdout",
     "output_type": "stream",
     "text": [
      "Mac OS Version is 15.2 and patch enabled so applying the patch\n"
     ]
    },
    {
     "name": "stderr",
     "output_type": "stream",
     "text": [
      "2024-12-24 11:30:30.070 python[40860:568257] +[IMKClient subclass]: chose IMKClient_Modern\n",
      "2024-12-24 11:30:30.070 python[40860:568257] +[IMKInputSession subclass]: chose IMKInputSession_Modern\n"
     ]
    },
    {
     "name": "stdout",
     "output_type": "stream",
     "text": [
      "1\n",
      "2\n",
      "3\n",
      "None\n"
     ]
    },
    {
     "data": {
      "text/plain": [
       "<bound method Window.close of <PySimpleGUI.PySimpleGUI.Window object at 0x1116b1b50>>"
      ]
     },
     "execution_count": 2,
     "metadata": {},
     "output_type": "execute_result"
    }
   ],
   "source": [
    "import PySimpleGUI as sg\n",
    "layout = [\n",
    "    [sg.Text('0.0000', size=(16, 1), key='_DISPLAY_')],\n",
    "    [sg.Button('calc')]\n",
    "]\n",
    "window = sg.Window('簡単電卓', layout=layout, size=(300, 100),\n",
    "                   background_color=\"#272533\", return_keyboard_events=True)\n",
    "var = {'front':[]}\n",
    "\n",
    "while True:\n",
    "    event, values = window.read()\n",
    "    print(event)\n",
    "    if event == None:\n",
    "        break\n",
    "    if event in ['0', '1', '2', '3', '4', '5', '6', '7', '8', '9']:\n",
    "        var['front'].append(event)\n",
    "        window['_DISPLAY_'].update(var['front'])\n",
    "\n",
    "window.close"
   ]
  },
  {
   "cell_type": "code",
   "execution_count": 4,
   "metadata": {},
   "outputs": [
    {
     "name": "stdout",
     "output_type": "stream",
     "text": [
      "Meta_L:922810622\n",
      "??:1711339773\n",
      "1\n",
      "2\n",
      "3\n",
      "??:63742\n",
      "None\n"
     ]
    },
    {
     "data": {
      "text/plain": [
       "<bound method Window.close of <PySimpleGUI.PySimpleGUI.Window object at 0x1201aaa50>>"
      ]
     },
     "execution_count": 4,
     "metadata": {},
     "output_type": "execute_result"
    }
   ],
   "source": [
    "import PySimpleGUI as sg\n",
    "layout = [\n",
    "    [sg.Text('0.0000', size=(16, 1), key='_DISPLAY_')],\n",
    "    [sg.Button('calc')]\n",
    "]\n",
    "window = sg.Window('簡単電卓', layout=layout, size=(300, 100),\n",
    "                   background_color=\"#272533\", return_keyboard_events=True)\n",
    "var = {'front':[], 'back':[], 'decimal':False, 'x_val': 0.0, 'y_val': 0.0, 'result': 0.0, 'operator':''}\n",
    "\n",
    "def number_click(): # 数字をキーボードから受け取る関数\n",
    "    global var\n",
    "    \n",
    "    if var['decimal']: # 小数点かどうかのブールがTrueなら\n",
    "        var['back'].append(event) # 小数点以上の数字\n",
    "    else:\n",
    "        var['front'].append(event) # 小数点以下の数字\n",
    "\n",
    "    update_display(format_number())\n",
    "\n",
    "\n",
    "def format_number(): # キーボードから数字を受け取る関数\n",
    "    return float(''.join(var['front']) + '.' + ''.join(var['back'])) # 数字を受け取り、float型の入力値を返す\n",
    "\n",
    "\n",
    "def operator_click(event): # 四則演算の内容を取得する関数\n",
    "    global var\n",
    "\n",
    "    var['operator'] = event # operatorに格納 (string)\n",
    "    var['x_val'] = format_number() # 初めに受け取った数値をx_valに格納\n",
    "    clear_click()\n",
    "\n",
    "\n",
    "def calculate_click(): # 計算する関数\n",
    "    global var\n",
    "\n",
    "    var['y_val'] = format_number() # 2回目に入力された内容を格納\n",
    "    var['result'] = eval(str(var['x_val']) + var['operator'] + str(var['y_val'])) # x_val, y_valの値を文字列として読み込み、operatorを挟み込み結合。 eval()で計算\n",
    "    update_display(var['result'])\n",
    "\n",
    "\n",
    "def clear_click(): # 初期化する関数\n",
    "    global var\n",
    "\n",
    "    var['front'].clear()\n",
    "    var['back'].clear()\n",
    "    var['decimal'] = False\n",
    "    var['result'] = 0.0\n",
    "    update_display(var['result'])\n",
    "\n",
    "\n",
    "def update_display(display_value): # 表示内容を変更する関数\n",
    "    try:\n",
    "        window['_DISPLAY_'].update(value='{:,.4f}'.format(display_value)) # display_valueを受け取り、_DISPLAY_に表示をトライする\n",
    "    except:\n",
    "        window['_DISPLAY_'].update(value=display_value) # 想定外の動きしたらこっちを実行する\n",
    "    \n",
    "\n",
    "while True:\n",
    "    event, values = window.read()\n",
    "    print(event)\n",
    "    if event is None:\n",
    "        break\n",
    "    if event in ['0', '1', '2', '3', '4', '5', '6', '7', '8', '9']:\n",
    "        number_click()\n",
    "    if event in ['C', 'CE']:\n",
    "        clear_click()\n",
    "        print(var['decimal'])\n",
    "    if event in ['+', '-', '*', '/']:\n",
    "        operator_click(event)\n",
    "    if event == '=':\n",
    "        calculate_click()\n",
    "    if event == '.':\n",
    "        var['decimal'] = True\n",
    "\n",
    "window.close"
   ]
  },
  {
   "cell_type": "code",
   "execution_count": null,
   "metadata": {},
   "outputs": [],
   "source": []
  },
  {
   "cell_type": "markdown",
   "metadata": {},
   "source": []
  }
 ],
 "metadata": {
  "kernelspec": {
   "display_name": "base",
   "language": "python",
   "name": "python3"
  },
  "language_info": {
   "codemirror_mode": {
    "name": "ipython",
    "version": 3
   },
   "file_extension": ".py",
   "mimetype": "text/x-python",
   "name": "python",
   "nbconvert_exporter": "python",
   "pygments_lexer": "ipython3",
   "version": "3.12.4"
  }
 },
 "nbformat": 4,
 "nbformat_minor": 2
}
