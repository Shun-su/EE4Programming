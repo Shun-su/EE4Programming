{
 "cells": [
  {
   "cell_type": "code",
   "execution_count": 1,
   "id": "8259822d-7724-4871-ac4f-3f85cb85abb7",
   "metadata": {},
   "outputs": [],
   "source": [
    "print('Hello World')"
   ]
  },
  {
   "cell_type": "code",
   "execution_count": 8,
   "id": "941849b5",
   "metadata": {},
   "outputs": [
    {
     "name": "stdout",
     "output_type": "stream",
     "text": [
      "太郎 の平均点： 47.5\n",
      "花子 の平均点： 87.5\n"
     ]
    }
   ],
   "source": [
    "def Heikin(kokugo, sansu):\n",
    "    # sum = a + b + c + d + e\n",
    "    sum = (kokugo + sansu) / 2\n",
    "    # bunsan = (a-sum)**2 + (b-sum)**2 + (c-sum)**2 + (d-sum)**2 + (e-sum)**2\n",
    "    return sum\n",
    "\n",
    "taro_name = '太郎'\n",
    "taro_kokugo = 50\n",
    "taro_sansuu = 45\n",
    "taro_heikin = Heikin(taro_kokugo, taro_sansuu)\n",
    "\n",
    "hanako_name = '花子'\n",
    "hanako_kokugo = 90\n",
    "hanako_sansu = 85\n",
    "hanako_heikin = Heikin(hanako_kokugo, hanako_sansu)\n",
    "\n",
    "print(taro_name, 'の平均点：', taro_heikin)\n",
    "print(hanako_name, 'の平均点：', hanako_heikin)"
   ]
  },
  {
   "cell_type": "code",
   "execution_count": 4,
   "id": "e402c6ca",
   "metadata": {},
   "outputs": [
    {
     "name": "stdout",
     "output_type": "stream",
     "text": [
      "太郎 の平均点： 62.0\n",
      "太郎 の分散： 930.0\n",
      "太郎 の標準偏差： 30.495901363953813\n"
     ]
    }
   ],
   "source": [
    "def heikin(a, b, c, d, e):\n",
    "    sum = a + b + c + d + e\n",
    "    ave = sum / 5\n",
    "    return ave\n",
    "\n",
    "def bunsan(a, b, c, d, e):\n",
    "    ave = heikin(a, b, c, d, e)\n",
    "    bar = (a-ave)**2 + (b-ave)**2 + (c-ave)**2 + (d-ave)**2 + (e-ave)**2\n",
    "    return bar\n",
    "\n",
    "def heikin_bunsan(a, b, c, d, e):\n",
    "    ave = heikin(a, b, c, d, e)\n",
    "    bar = bunsan(a, b, c, d, e)\n",
    "    return ave, bar\n",
    "\n",
    "taro_name = '太郎'\n",
    "taro_kokugo = 50\n",
    "taro_sansuu = 45\n",
    "taro_rika = 60\n",
    "taro_shakai = 75\n",
    "taro_eigo = 80\n",
    "\n",
    "taro_heikin, taro_bunsan = heikin_bunsan(taro_kokugo, taro_sansuu, taro_rika, taro_shakai, taro_eigo)\n",
    "\n",
    "\n",
    "print(taro_name, 'の平均点：', taro_heikin)\n",
    "print(taro_name, 'の分散：', taro_bunsan)\n",
    "print(taro_name, 'の標準偏差：', taro_bunsan**0.5)"
   ]
  },
  {
   "cell_type": "code",
   "execution_count": 9,
   "id": "feedc5a0",
   "metadata": {},
   "outputs": [
    {
     "name": "stdout",
     "output_type": "stream",
     "text": [
      "太郎 の平均点： 47.5\n",
      "花子 の平均点： 87.5\n"
     ]
    }
   ],
   "source": [
    "class Tokuten_data():\n",
    "    def __init__(self):\n",
    "        self.name = ''\n",
    "        self.kokugo = 0\n",
    "        self.sansuu = 0\n",
    "        self.heikin = 0.0\n",
    "\n",
    "taro = Tokuten_data()\n",
    "taro.name = '太郎'\n",
    "taro.kokugo = 50\n",
    "taro.sansuu = 45\n",
    "\n",
    "hanako = Tokuten_data()\n",
    "hanako.name = '花子'\n",
    "hanako.kokugo = 90\n",
    "hanako.sansuu = 85\n",
    "\n",
    "taro.heikin = Heikin(taro.kokugo, taro.sansuu)\n",
    "hanako.heikin = Heikin(hanako.kokugo, hanako.sansuu)\n",
    "\n",
    "print(taro.name, 'の平均点：', taro.heikin)\n",
    "print(hanako.name, 'の平均点：', hanako.heikin)"
   ]
  },
  {
   "cell_type": "code",
   "execution_count": 35,
   "id": "83bda001",
   "metadata": {},
   "outputs": [
    {
     "name": "stdout",
     "output_type": "stream",
     "text": [
      "+-------------------------------+\n",
      "| チーム名|勝ち数|負け数|引き分| 勝率|\n",
      "+-------------------------------+\n",
      "|  Aチーム|    2|    7|    1|0.200|\n",
      "|  Bチーム|    4|    4|    2|0.400|\n",
      "|  Cチーム|    8|    1|    1|0.800|\n",
      "+-------------------------------+\n"
     ]
    }
   ],
   "source": [
    "class FootballTeam:\n",
    "    def __init__(self, n='', w=0, l=0, d=0, r=0.0):\n",
    "        self.name = n\n",
    "        self.win = w\n",
    "        self.lose = l\n",
    "        self.draw = d\n",
    "        self.result = r\n",
    "    \n",
    "    def CalWinRate(self):\n",
    "        self.result = self.win / (self.win + self.lose + self.draw)\n",
    "\n",
    "    def ShowTeamResult(self):\n",
    "        print('|%6s|%5d|%5d|%5d|%5.3f|'% (self.name, self.win, self.lose, self.draw, self.result))\n",
    "\n",
    "teamA = FootballTeam('Aチーム', 2, 7, 1)\n",
    "teamB = FootballTeam('Bチーム', 4, 4, 2)\n",
    "teamC = FootballTeam('Cチーム', 8, 1, 1)\n",
    "\n",
    "teams = [teamA, teamB, teamC]\n",
    "for i, t in enumerate(teams):\n",
    "    if i == 0:\n",
    "        print('+-------------------------------+')\n",
    "        print('|%5s|%3s|%3s|%3s|%3s|'% ('チーム名', '勝ち数', '負け数', '引き分', '勝率'))\n",
    "        print('+-------------------------------+')\n",
    "    t.CalWinRate()\n",
    "    t.ShowTeamResult()\n",
    "    if i == len(teams) - 1:\n",
    "        print('+-------------------------------+')"
   ]
  },
  {
   "cell_type": "markdown",
   "id": "bfab99c7",
   "metadata": {},
   "source": []
  },
  {
   "cell_type": "markdown",
   "id": "b527786e",
   "metadata": {},
   "source": []
  }
 ],
 "metadata": {
  "kernelspec": {
   "display_name": "base",
   "language": "python",
   "name": "python3"
  },
  "language_info": {
   "codemirror_mode": {
    "name": "ipython",
    "version": 3
   },
   "file_extension": ".py",
   "mimetype": "text/x-python",
   "name": "python",
   "nbconvert_exporter": "python",
   "pygments_lexer": "ipython3",
   "version": "3.12.4"
  }
 },
 "nbformat": 4,
 "nbformat_minor": 5
}
